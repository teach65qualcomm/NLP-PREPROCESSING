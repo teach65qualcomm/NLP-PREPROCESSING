{
  "nbformat": 4,
  "nbformat_minor": 0,
  "metadata": {
    "colab": {
      "provenance": [],
      "authorship_tag": "ABX9TyNz7QLSiBYYiOvu0Kln0szo",
      "include_colab_link": true
    },
    "kernelspec": {
      "name": "python3",
      "display_name": "Python 3"
    },
    "language_info": {
      "name": "python"
    }
  },
  "cells": [
    {
      "cell_type": "markdown",
      "metadata": {
        "id": "view-in-github",
        "colab_type": "text"
      },
      "source": [
        "<a href=\"https://colab.research.google.com/github/teach65qualcomm/NLP-PREPROCESSING/blob/main/TEXT_ANALYTICS_BY_REGULAR_EXPRESSION.ipynb\" target=\"_parent\"><img src=\"https://colab.research.google.com/assets/colab-badge.svg\" alt=\"Open In Colab\"/></a>"
      ]
    },
    {
      "cell_type": "markdown",
      "source": [
        "## **Basic regex characters you need to know**"
      ],
      "metadata": {
        "id": "jozpNM0Htce8"
      }
    },
    {
      "cell_type": "code",
      "source": [
        "import re"
      ],
      "metadata": {
        "id": "4PP_bKHYsHuz"
      },
      "execution_count": 12,
      "outputs": []
    },
    {
      "cell_type": "code",
      "source": [
        "a=\"hello how are you i am good i am sharing my contact no 123315502 so if yoy find any issue then you can directly contact with me and my CTO no is (6575)-765-7863\""
      ],
      "metadata": {
        "id": "wsSVC8_otnYj"
      },
      "execution_count": 13,
      "outputs": []
    },
    {
      "cell_type": "code",
      "source": [
        "a"
      ],
      "metadata": {
        "colab": {
          "base_uri": "https://localhost:8080/",
          "height": 52
        },
        "id": "GBd8exqYtrvr",
        "outputId": "ef3d55cd-e7cc-42a2-8c00-547adc93c886"
      },
      "execution_count": 14,
      "outputs": [
        {
          "output_type": "execute_result",
          "data": {
            "text/plain": [
              "'hello how are you i am good i am sharing my contact no 123315502 so if yoy find any issue then you can directly contact with me and my CTO no is (6575)-765-7863'"
            ],
            "application/vnd.google.colaboratory.intrinsic+json": {
              "type": "string"
            }
          },
          "metadata": {},
          "execution_count": 14
        }
      ]
    },
    {
      "cell_type": "code",
      "source": [
        "p_new=\"\\(\\d{4}\\)-\\d{3}-\\d{4}|\\d+\""
      ],
      "metadata": {
        "id": "pzWAKxFWttDc"
      },
      "execution_count": 18,
      "outputs": []
    },
    {
      "cell_type": "code",
      "source": [
        "re.findall(p_new,a)"
      ],
      "metadata": {
        "colab": {
          "base_uri": "https://localhost:8080/"
        },
        "id": "aIc4IdPit6EY",
        "outputId": "1ea98bdb-54e9-4ecb-e58f-2f57c0d7fbb5"
      },
      "execution_count": 19,
      "outputs": [
        {
          "output_type": "execute_result",
          "data": {
            "text/plain": [
              "['123315502', '(6575)-765-7863']"
            ]
          },
          "metadata": {},
          "execution_count": 19
        }
      ]
    },
    {
      "cell_type": "code",
      "source": [
        "a=\"##hello#$eshank$$$datascience::;;;bigdata&&&\""
      ],
      "metadata": {
        "id": "1Kr0Vsfrt7FN"
      },
      "execution_count": 20,
      "outputs": []
    },
    {
      "cell_type": "code",
      "source": [
        "p=\"[^#$:;&]+\""
      ],
      "metadata": {
        "id": "aNCnqwHvuQNa"
      },
      "execution_count": 21,
      "outputs": []
    },
    {
      "cell_type": "code",
      "source": [
        "re.findall(p,a)"
      ],
      "metadata": {
        "colab": {
          "base_uri": "https://localhost:8080/"
        },
        "id": "tVG-sLwxuyBj",
        "outputId": "02fedb42-c283-491d-acb6-ce20c21ee890"
      },
      "execution_count": 22,
      "outputs": [
        {
          "output_type": "execute_result",
          "data": {
            "text/plain": [
              "['hello', 'eshank', 'datascience', 'bigdata']"
            ]
          },
          "metadata": {},
          "execution_count": 22
        }
      ]
    },
    {
      "cell_type": "code",
      "source": [
        "text = '''\n",
        "The gross cost of operating lease vehicles in FY2021 Q1 was $4.85 billion.\n",
        "In previous quarter i.e. FY2020 Q4 it was $3 billion.\n",
        "'''\n",
        "\n",
        "pattern = 'FY\\d{4} Q[1-4]'\n",
        "\n",
        "matches = re.findall(pattern, text)\n",
        "matches"
      ],
      "metadata": {
        "colab": {
          "base_uri": "https://localhost:8080/"
        },
        "id": "EPC9DHAwwjxb",
        "outputId": "6c73d9f0-3f16-49cb-d88a-2aaa74cce4ab"
      },
      "execution_count": 42,
      "outputs": [
        {
          "output_type": "execute_result",
          "data": {
            "text/plain": [
              "['FY2021 Q1', 'FY2020 Q4']"
            ]
          },
          "metadata": {},
          "execution_count": 42
        }
      ]
    },
    {
      "cell_type": "code",
      "source": [
        "text = '''\n",
        "The gross cost of operating lease vehicles in FY2021 Q1 was $4.85 billion.\n",
        "In previous quarter i.e. fy2020 Q4 it was $3 billion.\n",
        "'''\n",
        "\n",
        "pattern = 'FY\\d{4} Q[1-4]'\n",
        "\n",
        "matches = re.findall(pattern, text, flags=re.IGNORECASE)\n",
        "matches"
      ],
      "metadata": {
        "colab": {
          "base_uri": "https://localhost:8080/"
        },
        "id": "dFiVNyMDxT4Y",
        "outputId": "a483541e-0fd4-4c73-cd3a-09dd72965287"
      },
      "execution_count": 43,
      "outputs": [
        {
          "output_type": "execute_result",
          "data": {
            "text/plain": [
              "['FY2021 Q1', 'fy2020 Q4']"
            ]
          },
          "metadata": {},
          "execution_count": 43
        }
      ]
    },
    {
      "cell_type": "code",
      "source": [
        "p=\"FY[0-9]+ Q[0-9]|\\$[0-9.]+ billion\"\n",
        "matches=re.findall(p,text,flags=re.IGNORECASE)\n",
        "matches"
      ],
      "metadata": {
        "colab": {
          "base_uri": "https://localhost:8080/"
        },
        "id": "CdZL5_TVxnOZ",
        "outputId": "c09ced57-49fa-4b97-d660-e54a733b6209"
      },
      "execution_count": 45,
      "outputs": [
        {
          "output_type": "execute_result",
          "data": {
            "text/plain": [
              "['FY2021 Q1', '$4.85 billion', 'fy2020 Q4', '$3 billion']"
            ]
          },
          "metadata": {},
          "execution_count": 45
        }
      ]
    },
    {
      "cell_type": "markdown",
      "source": [
        "# **Anchors in RE**\n",
        "\n",
        "**Characters :-**\n",
        "\n",
        "Escape character: \\\n",
        "\n",
        "Any character: .\n",
        "\n",
        "Digit: \\d\n",
        "\n",
        "Not a digit: \\D\n",
        "\n",
        "Word character: \\w\n",
        "\n",
        "Not a word character: \\W\n",
        "\n",
        "Whitespace: \\s\n",
        "\n",
        "Not whitespace: \\S\n",
        "\n",
        "Beginning of a string: ^\n",
        "\n",
        "End of a string: $"
      ],
      "metadata": {
        "id": "sxxJtyS9zvFq"
      }
    },
    {
      "cell_type": "markdown",
      "source": [
        "**Groupings:-**\n",
        "\n",
        "Matches characters in brackets: [ ]\n",
        "\n",
        "Matches characters not in brackets: [^ ]\n",
        "\n",
        "Either or: |\n",
        "\n",
        "Capturing group: ( )"
      ],
      "metadata": {
        "id": "6FDQwryq0FEJ"
      }
    },
    {
      "cell_type": "markdown",
      "source": [
        "**Quantifiers:-**\n",
        "    \n",
        "0 or more: *\n",
        "\n",
        "1 or more: +\n",
        "\n",
        "0 or 1: ?\n",
        "\n",
        "An exact number of characters: { }\n",
        "\n",
        "Range of number of characters: {Minimum, Maximum}"
      ],
      "metadata": {
        "id": "l_vTsG-E0OBE"
      }
    },
    {
      "cell_type": "code",
      "source": [],
      "metadata": {
        "id": "3drRrb_j0Tbb"
      },
      "execution_count": null,
      "outputs": []
    }
  ]
}